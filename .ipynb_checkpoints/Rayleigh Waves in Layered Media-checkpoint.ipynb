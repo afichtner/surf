{
 "cells": [
  {
   "cell_type": "markdown",
   "metadata": {},
   "source": [
    "# Rayleigh waves in anisotropic layered media"
   ]
  },
  {
   "cell_type": "code",
   "execution_count": 1,
   "metadata": {},
   "outputs": [],
   "source": [
    "from importlib import reload\n",
    "import numpy as np\n",
    "import matplotlib.pyplot as plt\n",
    "\n",
    "plt.rcParams[\"font.family\"] = \"Times\"\n",
    "plt.rcParams.update({'font.size': 30})\n",
    "plt.rcParams['xtick.major.pad']='12'\n",
    "plt.rcParams['ytick.major.pad']='12'"
   ]
  },
  {
   "cell_type": "markdown",
   "metadata": {},
   "source": [
    "# 1. General background\n",
    "\n",
    "The following is a notebook for the calculation of surface wave dispersion and sensitivity kernels for surface waves propagating in layered media. The developments closely follow the classical work of Takeuchi & Saito (1972) [\"Seismic Surface Waves\", Methods in Computational Physics: Advances in Research and Applications, 217 - 295]. For this, we consider elastic media with vertical symmetry axis, where the stress-strain relation is given by\n",
    "\n",
    "\\begin{equation}\n",
    "\\sigma_{xx} = A (\\epsilon_{xx} + \\epsilon_{yy}) - 2N \\epsilon_{yy} + F \\epsilon_{zz}\\,, \\\\\n",
    "\\sigma_{yy} = A (\\epsilon_{xx} + \\epsilon_{yy}) - 2N \\epsilon_{xx} + F \\epsilon_{zz}\\,, \\\\\n",
    "\\sigma_{zz} = F (\\epsilon_{xx} + \\epsilon_{yy}) + C \\epsilon_{zz}\\,, \\\\\n",
    "\\sigma_{yz} = 2 L (\\epsilon_{yz}\\,, \\\\\n",
    "\\sigma_{zx} = 2 L (\\epsilon_{zx})\\,, \\\\\n",
    "\\sigma_{xy} = 2N \\epsilon_{xy}\\,,\n",
    "\\end{equation}\n",
    "\n",
    "with the strain tensor components\n",
    "\n",
    "\\begin{equation}\n",
    "\\epsilon_{ij} = \\frac{1}{2} ( \\partial_i u_j + \\partial_j u_i )\\,.\n",
    "\\end{equation}\n",
    "\n",
    "The $z$-axis is defined positive upwards, medium parameters are assumed to depend only on $z$, and all waves propagate in $x$-direction. We will generally consider freely propagating waves, meaning that no sources are active. For this case, the equations of motion in the frequency domain are\n",
    "\n",
    "\\begin{equation}\n",
    "-\\omega^2 \\rho u_i - \\partial_j \\sigma_{ij} = 0\\,. \n",
    "\\end{equation}\n",
    "\n",
    "**Before working through this notebook on Rayleigh waves, it is advisable to first study the corresponding notebook on Love waves, which are significantly easier.**"
   ]
  },
  {
   "cell_type": "markdown",
   "metadata": {},
   "source": [
    "# 2. Phase and group velocity dispersion curves"
   ]
  },
  {
   "cell_type": "markdown",
   "metadata": {},
   "source": [
    "## 2.1. Rayleigh waves"
   ]
  },
  {
   "cell_type": "markdown",
   "metadata": {},
   "source": [
    "Rayleigh waves are P-SV-waves, and so we seek solutions to the equations of motion in the form (in the notation of Takeuchi & Saito (1972))\n",
    "\n",
    "\\begin{equation}\n",
    "u_x = -iy_3 e^{i(\\omega t - kx)}\\,,\\\\\n",
    "u_y = 0\\,,\\\\\n",
    "u_z = y_1 e^{i(\\omega t - kx)}\\,.\n",
    "\\end{equation}\n",
    "\n",
    "Inserting this ansatz into the stress-strain relation and the equations of motion, yields a system of four ordinary differential equations,\n",
    "\n",
    "\\begin{equation}\n",
    "\\partial_z y_1 = \\frac{1}{C}(y_2 + kF y_3)\\,,\\\\\n",
    "\\partial_z y_2 = -\\omega^2 \\rho y_1 + k y_4\\,,\\\\\n",
    "\\partial_z y_3 = \\frac{1}{L}y_4 - ky_1\\,,\\\\\n",
    "\\partial_z y_4 = - \\frac{kF}{C} y_2 + \\left[ k^2 \\left( A - \\frac{F^2}{C} \\right) - \\omega^2 \\rho \\right] y_3\\,.\n",
    "\\end{equation}\n",
    "\n",
    "As in the case of Love waves, these equations have the useful advantage that they do not contain derivatives of the material parameters, and that they are written in terms of continuous displacement ($y_1,y_3$) and stress ($y_2,y_4$) quantities. These have to satisfy the boundary conditions\n",
    "\n",
    "\\begin{equation}\n",
    "y_{i=1,2,3,4} \\text{ are continuous}\\,,\\\\\n",
    "y_2 = y_4 = 0 \\text{ at the surface}\\,,\\\\\n",
    "y_{i=1,2,3,4} \\to 0 \\text{ as } z\\to\\infty\\,.\n",
    "\\end{equation}\n",
    "\n",
    "The system of four ordinary differential equations has four independent solutions. However, only two of these will satisfy the radiation condition $y_{i=1,2,3,4} \\to 0$ as $z\\to\\infty$. Denoting these solutions by $y_i^{(j)}$ with $j=1,2$, all solutions can be written as a superposition of the two:\n",
    "\n",
    "\\begin{equation}\n",
    "y_i = Q^{(1)} y_i^{(1)} + Q^{(2)} y_i^{(2)}\\,.\n",
    "\\end{equation}\n",
    "\n",
    "At the free surface, $z=H$, these solutions must satisfy\n",
    "\n",
    "\\begin{equation}\n",
    "y_2(H) = Q^{(1)} y_2^{(1)}(H) + Q^{(2)} y_2^{(2)}(H) = 0\\,,\\\\\n",
    "y_4(H) = Q^{(1)} y_4^{(1)}(H) + Q^{(2)} y_4^{(2)}(H) = 0\\,.\n",
    "\\end{equation}\n",
    "\n",
    "A non-trivial solution $Q^{(j)}$ to this system only exists when the two vectors $(y_2^{(1)}(H),y_4^{(1)}(H))$ and $(y_2^{(2)}(H),y_4^{(2)}(H))$ are parallel, that is, when the system determinant vanishes,\n",
    "\n",
    "\\begin{equation}\n",
    "y_2^{(1)}(H)y_4^{(2)}(H) -  y_2^{(2)}(H)y_4^{(1)}(H) = 0\\,.\n",
    "\\end{equation}\n",
    "\n",
    "This is the characteristic equation for Rayleigh waves."
   ]
  },
  {
   "cell_type": "markdown",
   "metadata": {},
   "source": [
    "## 2.2. Analytical solution for a homogeneous half-space"
   ]
  },
  {
   "cell_type": "markdown",
   "metadata": {},
   "source": [
    "The above system of ordinary differential equations is somewhat inconvenient when it comes to the derivation of an analytical solution, even for the simplest case of an isotropic half space. Probably the fastest solution goes via the potential representation of the frequency-domain wavefield,\n",
    "\n",
    "\\begin{equation}\n",
    "\\mathbf{u} = -\\nabla\\phi + \\nabla\\times\\boldsymbol{\\psi}\\,.\n",
    "\\end{equation}\n",
    "\n",
    "Inserting the scalar potential $\\phi$ and the vectorial potential $\\boldsymbol{\\psi}$ into the homogeneous wave equation for a homogeneous medium, yields two separate, scalar wave equations,\n",
    "\n",
    "\\begin{equation}\n",
    "-\\omega^2 \\rho \\phi - (\\lambda + 2\\mu) \\Delta \\phi = 0\\,,\\\\\n",
    "-\\omega^2 \\rho \\psi_y - \\mu \\Delta\\psi_i = 0\\,,\n",
    "\\end{equation}\n",
    "\n",
    "where $\\lambda$ and $\\mu$ are the Lame parameters. All but the $y$-component of the vectorial potential $\\boldsymbol{\\psi}$ are equal to zero. With the help of this ansatz, we obtain general solutions for the two non-zero components of the displacement field,\n",
    "\n",
    "\\begin{equation}\n",
    "u_x = (s \\psi_0 e^{sz} - ik \\phi_0 e^{rz} )\\, e^{i(\\omega t - k x)}\\,,\\\\\n",
    "u_z = (r \\phi_0 e^{rz} + i k \\psi_0 e^{sz} ) \\, e^{i(\\omega t - k x)}\\,,\n",
    "\\end{equation}\n",
    "\n",
    "with the definitions\n",
    "\n",
    "\\begin{equation}\n",
    "r^2 = k^2 - \\frac{\\omega^2}{\\alpha^2} > 0\\,,\\\\\n",
    "s^2 = k^2 - \\frac{\\omega^2}{\\beta^2} > 0\\,.\n",
    "\\end{equation}\n",
    "\n",
    "The wave number $k$, or the Rayleigh wave speed $c=\\omega/k$ are constrained through the free-surface condition, which leads to the characteristic equation\n",
    "\n",
    "\\begin{equation}\n",
    "0 = 4 \\beta^4 \\sqrt{1-\\frac{c^2}{\\beta^2}} \\sqrt{1-\\frac{c^2}{\\alpha^2}} - (2\\beta^2 - c^2)^2\\,.\n",
    "\\end{equation}\n",
    "\n",
    "Interestingly, the above equation does not depend explicitly on frequency, meaning that the Rayleigh in a homogeneous half space is not dispersive."
   ]
  },
  {
   "cell_type": "markdown",
   "metadata": {},
   "source": [
    "### 2.2.1. Medium properties\n",
    "\n",
    "First, we define some medium properties and plot the characteristic function."
   ]
  },
  {
   "cell_type": "code",
   "execution_count": 2,
   "metadata": {},
   "outputs": [],
   "source": [
    "# velocity [m/s] and density [kg/m^3] of the layer\n",
    "beta=2000.0\n",
    "alpha=3000.0"
   ]
  },
  {
   "cell_type": "markdown",
   "metadata": {},
   "source": [
    "### 2.2.2. Characteristic function and phase velocity"
   ]
  },
  {
   "cell_type": "code",
   "execution_count": 3,
   "metadata": {},
   "outputs": [],
   "source": [
    "def cf(a,b,c):\n",
    "    \"\"\"\n",
    "    Rayleigh wave characteristic function.\n",
    "    a = alpha = P wave speed\n",
    "    b = beta = S wave speed\n",
    "    c = Rayleigh wave phase velocity\n",
    "    \"\"\"\n",
    "    \n",
    "    return 4.0 * (b**4) * np.sqrt(1.0 - c**2 / b**2 ) * np.sqrt(1.0 - c**2 / a**2 ) - (2.0 * b**2 - c**2 )**2"
   ]
  },
  {
   "cell_type": "code",
   "execution_count": 4,
   "metadata": {},
   "outputs": [
    {
     "data": {
      "image/png": "[encoded data removed]",
      "text/plain": [
       "<Figure size 2160x720 with 1 Axes>"
      ]
     },
     "metadata": {
      "needs_background": "light"
     },
     "output_type": "display_data"
    }
   ],
   "source": [
    "# march through phase velocities and plot left- versus right-hand side of the characteristic equation\n",
    "eps=1.0e-9\n",
    "c=np.linspace(0.8*beta+eps,beta-eps,10000)\n",
    "\n",
    "plt.subplots(1,figsize=(30,10))\n",
    "plt.plot(c,cf(alpha/1000.0,beta/1000.0,c/1000.0),'k')\n",
    "plt.grid()\n",
    "plt.xlabel('phase velocity [m/s]')\n",
    "plt.show()"
   ]
  },
  {
   "cell_type": "code",
   "execution_count": 5,
   "metadata": {},
   "outputs": [
    {
     "name": "stdout",
     "output_type": "stream",
     "text": [
      "Rayleigh wave speed: 1786.218622 m/s\n"
     ]
    }
   ],
   "source": [
    "d=cf(alpha/1000.0,beta/1000.0,c/1000.0)\n",
    "idx=np.where(np.min(np.abs(d)) == np.abs(d))\n",
    "\n",
    "print('Rayleigh wave speed: %f m/s' % c[idx])"
   ]
  },
  {
   "cell_type": "markdown",
   "metadata": {},
   "source": [
    "## 2.3. Numerical solution\n",
    "\n",
    "With the exception of an isotropic, homogeneous half space, the equations of motion for Rayleigh waves cannot be solved semi-analytically, and so we need to resort to numerical solutions. An interesting numerical difficulty is related to the evaluation of the characteristic equation, because it involves the difference of two potentially very large numbers that we wish to force to zero. To avoid issues with floating point accuracy, it has been suggested to consider a different set of ordinary differential equations, which yield the characteristic equation directly. For this, one needs to introduce a new set of six variables:\n",
    "\n",
    "\\begin{equation}\n",
    "Y_1 = y_1^{(1)} y_3^{(2)} - y_1^{(2)} y_3^{(1)}\\,,\\\\\n",
    "Y_2 = y_2^{(1)} y_4^{(2)} - y_2^{(2)} y_4^{(1)}\\,,\\\\\n",
    "Y_3 = y_1^{(1)} y_2^{(2)} - y_1^{(2)} y_2^{(1)}\\,,\\\\\n",
    "Y_4 = y_1^{(1)} y_4^{(2)} - y_1^{(2)} y_4^{(1)}\\,,\\\\\n",
    "Y_5 = y_3^{(1)} y_2^{(2)} - y_3^{(2)} y_2^{(1)}\\,,\\\\\n",
    "Y_6 = y_3^{(1)} y_4^{(2)} - y_3^{(2)} y_4^{(1)}\\,.\n",
    "\\end{equation}\n",
    "\n",
    "Obviously, $Y_2$ is equivalent to the characteristic Rayleigh wave equation. Using the original equations of motion, we can find the set of differential equations that govern $Y_{i=1,...,6}$:\n",
    "\n",
    "\\begin{equation}\n",
    "\\partial_z Y_1 = \\frac{1}{L} Y_4 - \\frac{1}{C} Y_5\\,,\\\\\n",
    "\\partial_z Y_2 = -\\omega^2 \\rho Y_4 + \\left[ \\omega^2\\rho - k^2 \\left( A-\\frac{F^2}{C} \\right) \\right] Y_5\\,,\\\\\n",
    "\\partial_z Y_3 = k Y_4 + \\frac{kF}{C} Y_5 \\,,\\\\\n",
    "\\partial_z Y_4 = \\left[ -\\omega^2\\rho + k^2 \\left( A-\\frac{F^2}{C} \\right) \\right] Y_1 + \\frac{1}{C} Y_2 - \\frac{2kF}{C} Y_3\\,,\\\\\n",
    "\\partial_z Y_5 = \\omega^2 \\rho Y_1 - \\frac{1}{L} Y_2 - 2kY_3\\,.\n",
    "\\end{equation}\n",
    "\n",
    "The variable $Y_6$ is found to be equal to $-Y_5$, and so it is actually redundant. An additional benefit of using the system of equations above is that only one instead of two solutions must be found.\n",
    "\n",
    "Hence, the strategy is to consider a fixed frequency $\\omega$ and to then solve the system for trial wavenumbers $k$ until $Y_2$ is sufficiently close to zero. With this $(\\omega, k)$ pair we may then solve the original equations of motion to obtain two independent solutions for the displacement and stress functions, $y_{i=1,...,4}$. These are then combined linearly such that the free surface condition is satisfied."
   ]
  },
  {
   "cell_type": "markdown",
   "metadata": {},
   "source": [
    "### 2.3.1. Phase and group velocities\n",
    "\n",
    "Just as for Love waves, it is possible to derive an energy equation of the form\n",
    "\n",
    "\\begin{equation}\n",
    "\\omega^2 I_1 = I_2\\,.\n",
    "\\end{equation}\n",
    "\n",
    "The two integrals are defined as\n",
    "\n",
    "\\begin{equation}\n",
    "I_1 = \\int_{-\\infty}^H \\rho (y_1^2 + y_3^2)\\, dz\\,,\\\\\n",
    "I_2 = \\int_{-\\infty}^H \\left[ \\frac{1}{C} y_2^2 + \\frac{1}{L} y_4^2 + k^2 \\left( A - \\frac{F^2}{C} \\right) y_3^2 \\right]\\,dz\\,.\n",
    "\\end{equation}\n",
    "\n",
    "Varying $\\omega$ and $k$, with corresponding variations of the displacement and stress functions $y_{i=1,...,4}$, yields an explicit group velocity equation,\n",
    "\n",
    "\\begin{equation}\n",
    "U = \\frac{k}{\\omega} \\frac{I_3}{I_1}\\,,\n",
    "\\end{equation}\n",
    "\n",
    "with\n",
    "\n",
    "\\begin{equation}\n",
    "I_3 = \\int_{-\\infty}^H \\left[ \\left( A-\\frac{F^2}{C} \\right) y_3^2 + \\frac{1}{k} \\left( y_1 y_4 - \\frac{F}{C} y_2 y_3 \\right)   \\right]\\, dz\\,.\n",
    "\\end{equation}\n",
    "\n",
    "As in the case of Love waves, we hide all of these calculations in some external functions."
   ]
  },
  {
   "cell_type": "code",
   "execution_count": null,
   "metadata": {
    "scrolled": false
   },
   "outputs": [
    {
     "name": "stdout",
     "output_type": "stream",
     "text": [
      "f=0.050 Hz, c=2743.925 m/s, U=2243.979 m/s\n",
      "f=0.060 Hz, c=2644.893 m/s, U=2202.232 m/s\n",
      "f=0.070 Hz, c=2549.113 m/s, U=1971.861 m/s\n",
      "f=0.080 Hz, c=2426.956 m/s, U=1685.367 m/s\n"
     ]
    }
   ],
   "source": [
    "import dispersion_psv as psv\n",
    "\n",
    "frequencies,phase_velocities,group_velocities=psv.dispersion_psv('INPUT/input.xml')"
   ]
  },
  {
   "cell_type": "code",
   "execution_count": null,
   "metadata": {},
   "outputs": [],
   "source": [
    "# plot phase velocities\n",
    "plt.subplots(1,figsize=(30,10))\n",
    "for i in range(len(frequencies)):\n",
    "    plt.plot(frequencies[i],phase_velocities[i],'kx')\n",
    "    \n",
    "plt.xlabel('frequency [Hz]')\n",
    "plt.ylabel('phase velocity [m/s]')\n",
    "plt.title('phase velocities',pad=30)\n",
    "plt.grid()\n",
    "plt.show()\n",
    "\n",
    "# plot group velocities\n",
    "plt.subplots(1,figsize=(30,10))\n",
    "for i in range(len(frequencies)):\n",
    "    plt.plot(frequencies[i],group_velocities[i],'kx')\n",
    "    \n",
    "plt.xlabel('frequency [Hz]')\n",
    "plt.ylabel('group velocity [m/s]')\n",
    "plt.title('group velocities',pad=30)\n",
    "plt.grid()\n",
    "plt.show()"
   ]
  },
  {
   "cell_type": "markdown",
   "metadata": {},
   "source": [
    "### 2.3.2. Displacement functions\n",
    "\n",
    "The displacement functions $y_1$ (vertical) and $y_3$ (horizontal) are byproducts of the numerical integration. The function dispersion_psv writes these functions as files into an output directory, specified in the input file. In the following, we read such a displacement function and plot it."
   ]
  },
  {
   "cell_type": "code",
   "execution_count": null,
   "metadata": {
    "scrolled": false
   },
   "outputs": [],
   "source": [
    "import plot_displacement_psv as pdpsv\n",
    "\n",
    "pdpsv.plot_displacement_psv('OUTPUT/displacement_psv.onelayer.f=0.100.c=2176.964')"
   ]
  },
  {
   "cell_type": "markdown",
   "metadata": {},
   "source": [
    "# 3. Sensitivity kernels\n",
    "\n",
    "Also in the case of Rayleigh waves, the energy equation may be used to express variations of phase velocity, induced by variations in material parameters, in terms of sensitivity kernels. Keeping $\\omega$ fixed and varying $k$, with corresponding variations in material parameters, yields the following set of expressions:\n",
    "\n",
    "\\begin{equation}\n",
    "\\frac{\\delta c}{c} = \\int_{-\\infty}^H \\frac{\\delta \\rho}{\\rho} K_\\rho^0 \\,dz + \\int_{-\\infty}^H \\frac{\\delta A}{A} K_A \\,dz + \\int_{-\\infty}^H \\frac{\\delta C}{C} K_C \\,dz + \\int_{-\\infty}^H \\frac{\\delta F}{F} K_F \\,dz + \\int_{-\\infty}^H \\frac{\\delta L}{L} K_L \\,dz + \\int_{-\\infty}^H \\frac{\\delta N}{N} K_N \\,dz\\,,\n",
    "\\end{equation}\n",
    "\n",
    "with the integral (sensitivity) kernels defined as\n",
    "\n",
    "\\begin{equation}\n",
    "K_\\rho^0 = - \\frac{\\rho}{2I_1} \\frac{c}{U} ( y_1^2 + y_3^2 )\\,,\\\\\n",
    "K_A = \\frac{A}{2 c^2 I_1} \\frac{c}{U} y_3^2\\,,\\\\\n",
    "K_C = \\frac{C}{2 \\omega^2 I_1} \\frac{c}{U} \\left(\\frac{dy_1}{dz}\\right)^2\\,,\\\\\n",
    "K_F = -\\frac{kF}{\\omega^2 I_1} \\frac{c}{U} \\frac{dy_1}{dz} y_3\\,,\\\\\n",
    "K_L = \\frac{1}{2\\omega^2 I_1 L} \\frac{c}{U} y_4^2\\,,\\\\\n",
    "K_N = 0\\,.\n",
    "\\end{equation}\n",
    "\n",
    "**Note**: Takeuchi & Saito perturbed $\\omega$ in the energy equation, keeping $k$ constant. This is also possible but a little more lengthy.\n",
    "\n",
    "The parameterisation in terms of $\\rho$ and the elastic parameters $A$, $C$, $F$, $L$ and $N$ is commonly replaced by a parameterisation in terms of velocities, that are more directly 'observable', and the parameter $\\eta$:\n",
    "\n",
    "\\begin{equation}\n",
    "\\alpha_h = \\sqrt{\\frac{A}{\\rho}}\\,,\\quad \\alpha_v = \\sqrt{\\frac{C}{\\rho}}\\,,\\quad \\beta_h = \\sqrt{\\frac{N}{\\rho}}\\,,\\quad \\beta_v = \\sqrt{\\frac{L}{\\rho}}\\,,\\quad \\eta = \\frac{F}{A-2L}\\,.\n",
    "\\end{equation}\n",
    "\n",
    "The corresponding sensitivity kernels can be expressed most conveniently in terms of the fundamental kernels listed above:\n",
    "\n",
    "\\begin{equation}\n",
    "K_{\\alpha_h} = 2K_A + \\frac{2A}{A-2L} K_F\\,,\\\\\n",
    "K_{\\alpha_v} = 2K_C\\,,\\\\\n",
    "K_{\\beta_h} = 2K_N\\,,\\\\\n",
    "K_{\\beta_v} = 2K_L - \\frac{4L}{A-2L} K_F\\,,\\\\\n",
    "K_{\\eta} = K_F\\,,\\\\\n",
    "K_{\\rho} = K_A + K_C + K_F + K_N + K_L + K_{\\rho}^0\\,.\n",
    "\\end{equation}"
   ]
  },
  {
   "cell_type": "code",
   "execution_count": null,
   "metadata": {
    "scrolled": false
   },
   "outputs": [],
   "source": [
    "import plot_kernels as pk\n",
    "reload(pk)\n",
    "\n",
    "pk.plot_kernels('OUTPUT/kernels_psv.onelayer.f=0.300.c=2844.438')"
   ]
  }
 ],
 "metadata": {
  "kernelspec": {
   "display_name": "Python 3",
   "language": "python",
   "name": "python3"
  },
  "language_info": {
   "codemirror_mode": {
    "name": "ipython",
    "version": 3
   },
   "file_extension": ".py",
   "mimetype": "text/x-python",
   "name": "python",
   "nbconvert_exporter": "python",
   "pygments_lexer": "ipython3",
   "version": "3.8.3"
  }
 },
 "nbformat": 4,
 "nbformat_minor": 4
}
