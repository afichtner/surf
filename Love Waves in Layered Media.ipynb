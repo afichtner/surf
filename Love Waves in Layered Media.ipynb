{
 "cells": [
  {
   "cell_type": "markdown",
   "metadata": {},
   "source": [
    "# Love waves in anisotropic layered media"
   ]
  },
  {
   "cell_type": "code",
   "execution_count": null,
   "metadata": {},
   "outputs": [],
   "source": [
    "from importlib import reload\n",
    "import numpy as np\n",
    "import matplotlib.pyplot as plt\n",
    "\n",
    "plt.rcParams[\"font.family\"] = \"Times\"\n",
    "plt.rcParams.update({'font.size': 30})\n",
    "plt.rcParams['xtick.major.pad']='12'\n",
    "plt.rcParams['ytick.major.pad']='12'"
   ]
  },
  {
   "cell_type": "markdown",
   "metadata": {},
   "source": [
    "# 1. General background\n",
    "\n",
    "The following is a notebook for the calculation of surface wave dispersion and sensitivity kernels for surface waves propagating in layered media. The developments closely follow the classical work of Takeuchi & Saito (1972) [\"Seismic Surface Waves\", Methods in Computational Physics: Advances in Research and Applications, 217 - 295]. For this, we consider elastic media with vertical symmetry axis, where the stress-strain relation is given by\n",
    "\n",
    "\\begin{equation}\n",
    "\\sigma_{xx} = A (\\epsilon_{xx} + \\epsilon_{yy}) - 2N \\epsilon_{yy} + F \\epsilon_{zz}\\,, \\\\\n",
    "\\sigma_{yy} = A (\\epsilon_{xx} + \\epsilon_{yy}) - 2N \\epsilon_{xx} + F \\epsilon_{zz}\\,, \\\\\n",
    "\\sigma_{zz} = F (\\epsilon_{xx} + \\epsilon_{yy}) + C \\epsilon_{zz}\\,, \\\\\n",
    "\\sigma_{yz} = 2 L (\\epsilon_{yz}\\,, \\\\\n",
    "\\sigma_{zx} = 2 L (\\epsilon_{zx})\\,, \\\\\n",
    "\\sigma_{xy} = 2N \\epsilon_{xy}\\,,\n",
    "\\end{equation}\n",
    "\n",
    "with the strain tensor components\n",
    "\n",
    "\\begin{equation}\n",
    "\\epsilon_{ij} = \\frac{1}{2} ( \\partial_i u_j + \\partial_j u_i )\\,.\n",
    "\\end{equation}\n",
    "\n",
    "The $z$-axis is defined positive upwards, medium parameters are assumed to depend only on $z$, and all waves propagate in $x$-direction. We will generally consider freely propagating waves, meaning that no sources are active. For this case, the equations of motion in the frequency domain are\n",
    "\n",
    "\\begin{equation}\n",
    "-\\omega^2 \\rho u_i - \\partial_j \\sigma_{ij} = 0\\,. \n",
    "\\end{equation}"
   ]
  },
  {
   "cell_type": "markdown",
   "metadata": {},
   "source": [
    "# 2. Phase and group velocity dispersion curves"
   ]
  },
  {
   "cell_type": "markdown",
   "metadata": {},
   "source": [
    "## 2.1. Love waves"
   ]
  },
  {
   "cell_type": "markdown",
   "metadata": {},
   "source": [
    "Love waves are SH-waves, and so we seek solutions to the equations of motion in the form\n",
    "\n",
    "\\begin{equation}\n",
    "u_x = u_z = 0\\,,\\\\\n",
    "u_y = y_1(z; \\omega, k) \\, e^{i(\\omega t - kx)}\\,.\n",
    "\\end{equation}\n",
    "\n",
    "Inserting this ansatz into the stress-strain relation and the equations of motion, yields a system of two ordinary differential equations,\n",
    "\n",
    "\\begin{equation}\n",
    "\\partial_z y_2 = (k^2 N - \\omega^2 \\rho) y_1\\,,\\\\\n",
    "\\partial_z y_1 = y_2/L\\,.\n",
    "\\end{equation}\n",
    "\n",
    "These equations have the useful advantage that they do not contain derivatives of the material parameters, and that they are written in terms of continuous displacement ($y_1$) and stress ($y_2$) quantities. These have to satisfy the boundary conditions\n",
    "\n",
    "\\begin{equation}\n",
    "y_1 \\text{ and } y_2 \\text{ are continuous}\\,,\\\\\n",
    "y_2 = 0 \\text{ at the surface}\\,,\\\\\n",
    "y_1,y_2 \\to 0 \\text{ as } z\\to -\\infty\\,.\n",
    "\\end{equation}"
   ]
  },
  {
   "cell_type": "markdown",
   "metadata": {},
   "source": [
    "## 2.2. Analytical solution for layer over a half-space"
   ]
  },
  {
   "cell_type": "markdown",
   "metadata": {},
   "source": [
    "For a homogeneous, isotropic layer ($0<z\\leq H$, with medium properties $L_1=N_1=\\mu_1$, $\\rho_1$) over a homogeneous, isotropic half-space ($z<0$, with medium properties $L_2=N_2=\\mu_2$, $\\rho_2$) the Love wave equations can be solved analytically. In the upper layer, we find\n",
    "\n",
    "\\begin{equation}\n",
    "y_1(z) = A \\cos(\\nu_1 z) + \\frac{\\mu_2\\nu_2}{\\mu_2\\nu_1} A \\sin(\\nu_1 z)\\,,\\\\\n",
    "y_2(z) = -A \\mu_1\\nu_1 \\sin(\\nu_1 z) + A \\mu_2 \\nu_2 \\cos(\\nu_1 z)\\,,\n",
    "\\end{equation}\n",
    "\n",
    "and in the half-space we have\n",
    "\n",
    "\\begin{equation}\n",
    "y_1(z) = A e^{\\nu_2 z}\\,\\\\\n",
    "y_2(z) = \\mu_2\\nu_2 A e^{\\nu_2 z}\\,,\n",
    "\\end{equation}\n",
    "\n",
    "with some arbitrary amplitude $A$. The positive scalars $\\nu_1$ and $\\nu_2$ are defined as\n",
    "\n",
    "\\begin{equation}\n",
    "\\nu_1^2 = \\frac{\\rho_1\\omega^2}{\\mu_1} - k^2 > 0\\,,\\\\\n",
    "\\nu_2^2 = k^2 - \\frac{\\rho_2\\omega^2}{\\mu_2} > 0\\,.\n",
    "\\end{equation}\n",
    "\n",
    "It follows immediately from the last two relations that a Love wave can only exist in the presence of a low-velocity layer, that is, when\n",
    "\n",
    "\\begin{equation}\n",
    "\\frac{\\mu_1}{\\rho_1} = \\beta_1^2 < \\frac{\\omega^2}{k^2} < \\beta_2^2 = \\frac{\\mu_2}{\\rho_2}\\,.\n",
    "\\end{equation}\n",
    "\n",
    "Hence, the phase velocity $\\omega/k$ of a Love wave is between the phase velocities of the layer (slower) and the half-space (faster). For a given frequency $\\omega$, the wave number $k$ is so far undetermined. It follows, however, from the free-surface boundary condition, which yields the characteristic equation of Love waves:\n",
    "\n",
    "\\begin{equation}\n",
    "\\mu_2\\nu_2\\,\\cos(\\nu_1 H) = \\mu_1\\nu_1\\,\\sin(\\nu_1 H)\\,.\n",
    "\\end{equation}"
   ]
  },
  {
   "cell_type": "markdown",
   "metadata": {},
   "source": [
    "### 2.2.1. Medium properties\n",
    "\n",
    "First, we define some medium properties and plot the characteristic function."
   ]
  },
  {
   "cell_type": "code",
   "execution_count": null,
   "metadata": {},
   "outputs": [],
   "source": [
    "# velocity [m/s] and density [kg/m^3] of the layer\n",
    "beta_1=2000.0\n",
    "rho_1=2700.0\n",
    "\n",
    "# velocity [m/s] and density [kg/m^3] of the half-space\n",
    "beta_2=3000.0\n",
    "rho_2=3100.0\n",
    "\n",
    "# thickness of the layer [m]\n",
    "H=10000.0\n",
    "\n",
    "# frequency [Hz]\n",
    "f=1.0"
   ]
  },
  {
   "cell_type": "code",
   "execution_count": null,
   "metadata": {},
   "outputs": [],
   "source": [
    "# shear moduli\n",
    "mu_1=(beta_1**2)*rho_1\n",
    "mu_2=(beta_2**2)*rho_2\n",
    "\n",
    "# circular frequency\n",
    "omega=2.0*np.pi*f"
   ]
  },
  {
   "cell_type": "markdown",
   "metadata": {},
   "source": [
    "### 2.2.2. Characteristic function"
   ]
  },
  {
   "cell_type": "code",
   "execution_count": null,
   "metadata": {},
   "outputs": [],
   "source": [
    "# march through phase velocities and plot left- versus right-hand side of the characteristic equation\n",
    "eps=1.0e-9\n",
    "beta=np.linspace(beta_1+eps,beta_2-eps,10000)\n",
    "k=omega/beta\n",
    "\n",
    "nu_1=np.sqrt(rho_1*omega**2/mu_1 - k**2)\n",
    "nu_2=np.sqrt(k**2 - rho_2*omega**2/mu_2)\n",
    "\n",
    "plt.subplots(1,figsize=(30,10))\n",
    "plt.plot(beta,(mu_2*nu_2)*np.cos(nu_1*H),'r')\n",
    "plt.plot(beta,(mu_1*nu_1)*np.sin(nu_1*H),'k')\n",
    "plt.grid()\n",
    "plt.xlabel('phase velocity [m/s]')\n",
    "plt.title('black: left-hand side, red: right-hand side')\n",
    "plt.show()"
   ]
  },
  {
   "cell_type": "markdown",
   "metadata": {},
   "source": [
    "Obviously, the characteristic equation can have more than one solution, depending on the frequency. In general, the number of solutions increases with increasing frequency."
   ]
  },
  {
   "cell_type": "markdown",
   "metadata": {},
   "source": [
    "### 2.2.3. Dispersion curves\n",
    "\n",
    "As a next step, we will march through frequency $f$ and determine the wave numbers $k$ (or, equivalently, phase velocities $\\beta$) that solve the characteristic equation. Each solution is referred to as a mode. The mode with the lowest frequency is the fundamental mode. All others are higher modes or overtones.\n",
    "\n",
    "To make the solution of the characteristic equation easier, we define it as a separate function:"
   ]
  },
  {
   "cell_type": "code",
   "execution_count": null,
   "metadata": {},
   "outputs": [],
   "source": [
    "def cf(omega,beta):\n",
    "    \n",
    "    k=omega/beta\n",
    "    nu_1=np.sqrt(rho_1*omega**2/mu_1 - k**2)\n",
    "    nu_2=np.sqrt(k**2 - rho_2*omega**2/mu_2)\n",
    "    \n",
    "    return (mu_2*nu_2)*np.cos(nu_1*H)- (mu_1*nu_1)*np.sin(nu_1*H)"
   ]
  },
  {
   "cell_type": "markdown",
   "metadata": {},
   "source": [
    "Then we define some input parameters; the frequency range of interest, and the maximum number of modes we wish to find. Approximate solutions are then found by bisection. To find these solutions with reasonable accuracy and to avoid missing modes, the frequency increment $df$ needs to be sufficiently small."
   ]
  },
  {
   "cell_type": "code",
   "execution_count": null,
   "metadata": {},
   "outputs": [],
   "source": [
    "# frequency range [Hz]\n",
    "f_min=0.1\n",
    "f_max=1.0\n",
    "df=0.01\n",
    "\n",
    "# maximum number of higher modes\n",
    "n=10"
   ]
  },
  {
   "cell_type": "markdown",
   "metadata": {},
   "source": [
    "Then we march through the discrete frequency intervals."
   ]
  },
  {
   "cell_type": "code",
   "execution_count": null,
   "metadata": {},
   "outputs": [],
   "source": [
    "# test phase velocities [m/s]\n",
    "b=np.linspace(beta_1+eps,beta_2-eps,1000)\n",
    "\n",
    "# march through frequency-phase velocity pairs\n",
    "f=np.arange(f_min,f_max+df,df)\n",
    "beta=np.zeros((len(f),10))\n",
    "\n",
    "for i in range(len(f)):\n",
    "    \n",
    "    omega=2.0*np.pi*f[i]\n",
    "    count=0\n",
    "    \n",
    "    for j in range(len(b)-1):\n",
    "        \n",
    "        if (cf(omega,b[j])*cf(omega,b[j+1])<0.0):\n",
    "            beta[i,count]=0.5*(b[j]+b[j+1])\n",
    "            count+=1"
   ]
  },
  {
   "cell_type": "markdown",
   "metadata": {},
   "source": [
    "Finally, we plot the results."
   ]
  },
  {
   "cell_type": "code",
   "execution_count": null,
   "metadata": {},
   "outputs": [],
   "source": [
    "plt.subplots(1,figsize=(30,10))\n",
    "for i in range(len(f)):\n",
    "    for j in range(n):\n",
    "        if beta[i,j]>0.0: plt.plot(f[i],beta[i,j],'kx')\n",
    "            \n",
    "plt.xlabel('frequency [Hz]')\n",
    "plt.ylabel('phase velocity [m/s]')\n",
    "plt.grid()\n",
    "plt.show()"
   ]
  },
  {
   "cell_type": "markdown",
   "metadata": {},
   "source": [
    "### 2.2.4. Displacement and stress function\n",
    "\n",
    "Based on the computed dispersion curves, we can plot the displacement function $y_1$ and the stress function $y_2$ as a function of depth."
   ]
  },
  {
   "cell_type": "code",
   "execution_count": null,
   "metadata": {},
   "outputs": [],
   "source": [
    "# frequency index\n",
    "i=20\n",
    "# mode index\n",
    "j=1\n",
    "\n",
    "print('frequency=%f Hz, mode=%d, phase velocity=%f m/s' % (f[i],j,beta[i,j]))"
   ]
  },
  {
   "cell_type": "code",
   "execution_count": null,
   "metadata": {
    "scrolled": false
   },
   "outputs": [],
   "source": [
    "# compute nu_1 and nu_2\n",
    "omega=2.0*np.pi*f[i]\n",
    "k=omega/beta[i,j]\n",
    "nu_1=np.sqrt(rho_1*omega**2/mu_1 - k**2)\n",
    "nu_2=np.sqrt(k**2 - rho_2*omega**2/mu_2)\n",
    "\n",
    "# plot lower half space\n",
    "z=np.linspace(-3.0*H,0.0,100)\n",
    "y_1=np.exp(nu_2*z)\n",
    "y_2=mu_2*nu_2*np.exp(nu_2*z)\n",
    "\n",
    "fig, (ax1, ax2) = plt.subplots(1,2,sharey='row',figsize=(20,30))\n",
    "ax1.plot(y_1,z,'k')\n",
    "ax2.plot(y_2,z,'k')\n",
    "\n",
    "# plot layer\n",
    "z=np.linspace(0.0,H,100)\n",
    "y_1=np.cos(nu_1*z)+((mu_2*nu_2)/(mu_1*nu_1))*np.sin(nu_1*z)\n",
    "y_2=-mu_1*nu_1*np.sin(nu_1*z)+mu_2*nu_2*np.cos(nu_1*z)\n",
    "\n",
    "ax1.plot(y_1,z,'r')\n",
    "ax1.grid()\n",
    "ax1.set_title('displacement $y_1$',pad=30)\n",
    "ax1.set(xlabel='$y_1$',ylabel='z [m]')\n",
    "\n",
    "ax2.plot(y_2,z,'r')\n",
    "ax2.grid()\n",
    "ax2.set_title('stress $y_2$',pad=30)\n",
    "ax2.set(xlabel='$y_2$')\n",
    "\n",
    "plt.plot()"
   ]
  },
  {
   "cell_type": "markdown",
   "metadata": {},
   "source": [
    "## 2.3. Numerical solution\n",
    "\n",
    "While the equations of motion for Love waves can be solved semi-analytically in the special case of an isotropic layer over an isotropic half space, this is generally not the case for more complicated models. Hence, numerical approaches are needed.\n",
    "\n",
    "The crux of the problem lies in the solution of the equations of motion such that the free-surface condition $y_2 = 0$ at $z=H$ is satisfied. A common approach, that we follow here, is to pick a frequency $\\omega$ and some trial wave number $k$. The equations of motion are then integrated from the bottom towards the surface. If, for that specific $k$, the free-surface condition is satisfied reasonably well, we have found a reasonable $k$. Otherwise, another trial wave number $k$ is tested, and so on and so forth.\n",
    "\n",
    "In principle, the integration needs to start at $z=-\\infty$, which is obviously not possible in practice. A good compromise is to start the integration at a depth where $y_1$ and $y_2$ have already decayed substantially, for instance, a depth in km that is around 3 times the longest period in s. (So, for a period of 10 s, we would start integrating at 30 km depth.)"
   ]
  },
  {
   "cell_type": "markdown",
   "metadata": {},
   "source": [
    "### 2.3.1. Phase and group velocities\n",
    "\n",
    "To hide the complexity of numerical integration and eigenvalue search from this notebook, we implement them in a Python package that we import below. It includes the function dispersion_sh, which takes an input file as argument and then returns a set of frequencies with their corresponding phase and group velocities. Please have a careful look at least at the input file. It contains several numerical parameters, but also a reference to the Earth model used for the calculations.\n",
    "\n",
    "The group velocity $U=d\\omega/dk$ could be computed by numerical differentiation along a dispersion curve. Since this would be both numerically expensive and inaccurate, it has become common practice to take advantage of variational principles. An important role in this is played by the energy equation, which follows directly from the equations of motion:\n",
    "\n",
    "\\begin{equation}\n",
    "\\omega^2 I_1 = I_2\\,,\n",
    "\\end{equation}\n",
    "\n",
    "with\n",
    "\n",
    "\\begin{equation}\n",
    "I_1 = \\int_{-\\infty}^H \\rho y_1^2 \\,dz\\,,\\qquad I_2 = \\int_{-\\infty}^H \\left( \\frac{1}{L} y_2^2 + k^2 N y_1^2  \\right)\\,.\n",
    "\\end{equation}\n",
    "\n",
    "Realising that the energy equation also holds for perturbed solutions $y_i + \\delta y_i$ and $k+\\delta k$ at frequency $\\omega + \\delta\\omega$, one can derive an exact expression for the group velocity,\n",
    "\n",
    "\\begin{equation}\n",
    "U = \\frac{k}{\\omega} \\frac{I_3}{I_1}\\,,\n",
    "\\end{equation}\n",
    "\n",
    "with the integral\n",
    "\n",
    "\\begin{equation}\n",
    "I_3 = \\int_{-\\infty}^H N y_1^2 \\, dz\\,.\n",
    "\\end{equation}"
   ]
  },
  {
   "cell_type": "code",
   "execution_count": null,
   "metadata": {
    "scrolled": true
   },
   "outputs": [],
   "source": [
    "import dispersion_sh as sh\n",
    "\n",
    "frequencies,phase_velocities,group_velocities=sh.dispersion_sh('INPUT/input.xml')"
   ]
  },
  {
   "cell_type": "code",
   "execution_count": null,
   "metadata": {
    "scrolled": false
   },
   "outputs": [],
   "source": [
    "# plot phase velocities\n",
    "plt.subplots(1,figsize=(30,10))\n",
    "for i in range(len(frequencies)):\n",
    "    plt.plot(frequencies[i],phase_velocities[i],'kx')\n",
    "    plt.text(frequencies[i]+0.002,phase_velocities[i]+10,str(i),FontSize=20)\n",
    "    \n",
    "plt.xlabel('frequency [Hz]')\n",
    "plt.ylabel('phase velocity [m/s]')\n",
    "plt.title('phase velocities',pad=30)\n",
    "plt.grid()\n",
    "plt.show()\n",
    "\n",
    "# plot group velocities\n",
    "plt.subplots(1,figsize=(30,10))\n",
    "for i in range(len(frequencies)):\n",
    "    plt.plot(frequencies[i],group_velocities[i],'kx')\n",
    "    plt.text(frequencies[i]+0.002,group_velocities[i]+10,str(i),FontSize=20)\n",
    "    \n",
    "plt.xlabel('frequency [Hz]')\n",
    "plt.ylabel('group velocity [m/s]')\n",
    "plt.title('group velocities',pad=30)\n",
    "plt.grid()\n",
    "plt.show()"
   ]
  },
  {
   "cell_type": "markdown",
   "metadata": {},
   "source": [
    "We now pick a specific mode for further analysis (displacement and stress functions, kernels, gradient test)."
   ]
  },
  {
   "cell_type": "code",
   "execution_count": null,
   "metadata": {},
   "outputs": [],
   "source": [
    "# Mode index.\n",
    "idx=9\n",
    "\n",
    "# Get the frequency and phase velocity.\n",
    "_f=frequencies[idx]\n",
    "_c=phase_velocities[idx]\n",
    "_g=group_velocities[idx]\n",
    "print('frequency=%.3f Hz, phase velocity %.3f m/s, group_velocity %.3f m/s' % (_f,_c,_g))"
   ]
  },
  {
   "cell_type": "markdown",
   "metadata": {},
   "source": [
    "### 2.3.2. Displacement and stress functions\n",
    "\n",
    "The displacement function $y_1(z)$ and the stress function $y_2(z)$ are byproducts of the numerical integration. The function dispersion_sh writes these functions as files into an output directory, specified in the input file. In the following, we read such displacement and stress functions and plot them."
   ]
  },
  {
   "cell_type": "code",
   "execution_count": null,
   "metadata": {
    "scrolled": false
   },
   "outputs": [],
   "source": [
    "import plot_displacement_sh as pdsh\n",
    "\n",
    "identifier=f\"f={_f:.3f}\"+f\".c={_c:.3f}\"\n",
    "filename=\"OUTPUT/displacement_sh.onelayer.\"+identifier\n",
    "\n",
    "pdsh.plot_displacement_sh(filename)"
   ]
  },
  {
   "cell_type": "markdown",
   "metadata": {},
   "source": [
    "# 3. Sensitivity kernels\n",
    "\n",
    "The energy equation also allows us to consider variations of the solution $\\delta y_i$ and $\\delta c$ (for a fixed $\\omega$) induced by variations $\\delta\\rho$, $\\delta L$ and $\\delta N$ of the medium properties. In a condensed form, the fractional phase velocity variations can be expressed in terms of fractional medium perturbations as follows,\n",
    "\n",
    "\\begin{equation}\n",
    "\\frac{\\delta c}{c} = \\int_{-\\infty}^H \\frac{\\delta \\rho}{\\rho} K_\\rho^0 \\,dz + \\int_{-\\infty}^H \\frac{\\delta L}{L} K_L \\,dz + \\int_{-\\infty}^H \\frac{\\delta N}{N} K_N \\,dz\\,.\n",
    "\\end{equation}\n",
    "\n",
    "The integral (or sensitivity) kernels are given by\n",
    "\n",
    "\\begin{equation}\n",
    "K_\\rho^0 = \\frac{1}{2I_1} \\frac{c}{U} \\rho y_1^2\\,,\\quad K_L=-\\frac{1}{2\\omega^2 I_1} \\frac{c}{U} \\frac{1}{L} y_2^2\\,,\\quad K_N = -\\frac{1}{2\\omega^2 I_1} \\frac{c}{U} k^2 N y_1^2\\,.\n",
    "\\end{equation}\n",
    "\n",
    "In practice, it is more convenient to change the parameterisation from $(\\rho, L, N)$ to $(\\rho, \\beta_v, \\beta_h)$, where the SV- and SH-velocities are defined as\n",
    "\n",
    "\\begin{equation}\n",
    "\\beta_v = \\sqrt{\\frac{L}{\\rho}}\\,,\\quad \\beta_h = \\sqrt{\\frac{N}{\\rho}}\\,.\n",
    "\\end{equation}\n",
    "\n",
    "For the fractional variation of the phase velocity we then find\n",
    "\n",
    "\\begin{equation}\n",
    "\\frac{\\delta c}{c} = \\int_{-\\infty}^H \\frac{\\delta \\rho}{\\rho} K_\\rho \\,dz + \\int_{-\\infty}^H \\frac{\\delta \\beta_v}{\\beta_v} K_{\\beta_v} \\,dz + \\int_{-\\infty}^H \\frac{\\delta \\beta_h}{\\beta_h} K_{\\beta_h} \\,dz\\,,\n",
    "\\end{equation}\n",
    "\n",
    "with \n",
    "\n",
    "\\begin{equation}\n",
    "K_\\rho = K_\\rho^0 + K_L + K_N\\,,\\quad K_{\\beta_v} = 2 K_L\\,,\\quad K_{\\beta_h} = 2 K_N\\,.\n",
    "\\end{equation}\n",
    "\n",
    "The sensitivity kernels are computed on-the-fly during the solution of the above eigenvalue problem and written into the output directory. Below, we read and visualise one of these kernel files.\n",
    "\n",
    "**Note 1**: Takeuchi & Saito (1972) obtain kernel expressions by varying the energy equation with respect to $\\omega$, keeping $k$ constant. However, to obtain $\\delta c/c = -\\delta k/k$, it is in fact easier to vary $k$, keeping $\\omega$ constant.\n",
    "\n",
    "**Note 2**: It would, of course, also be possible to choose a parameterisation in terms of $\\beta_v$, $\\beta_h$, $\\alpha_v$, $\\alpha_h$ and $\\eta$. This would make sense in a joint inversion of Love and Rayleigh wave dispersion. However, it also makes the kernels expressions more complicated."
   ]
  },
  {
   "cell_type": "markdown",
   "metadata": {},
   "source": [
    "## 3.1. Load and plot kernels\n",
    "\n",
    "The actual kernels have already been computed on the fly. Now we just load and visualise them for a specific frequency and mode."
   ]
  },
  {
   "cell_type": "code",
   "execution_count": null,
   "metadata": {
    "scrolled": false
   },
   "outputs": [],
   "source": [
    "import plot_kernels as pk\n",
    "\n",
    "filename=\"OUTPUT/kernels_sh.onelayer.\"+identifier\n",
    "\n",
    "r,K_rho,K_vph,K_vpv,K_vsh,K_vsv,K_eta=pk.plot_kernels(filename)"
   ]
  },
  {
   "cell_type": "markdown",
   "metadata": {},
   "source": [
    "## 3.2. Gradient test\n",
    "\n",
    "Since many things can go wrong in the calculation of phase velocities and sensitivity kernels, it is useful to perform some tests. One of the easiest ones is a gradient test that compares fractional phase velocity variations $\\delta c/c$ computed from the sensitivity kernels\n",
    "\n",
    "\\begin{equation}\n",
    "\\frac{\\delta c}{c} = \\int\\limits_{-\\infty}^H K_m(z)\\,\\frac{\\delta m(z)}{m(z)}\\, dz\\,,\n",
    "\\end{equation}\n",
    "\n",
    "and via a finite difference approximation\n",
    "\n",
    "\\begin{equation}\n",
    "\\frac{\\delta c}{c} = \\frac{c(m+\\delta m) - c(m)}{c(m)}\\,,\n",
    "\\end{equation}\n",
    "\n",
    "where $m$ is one of the model parameters. In case more than one parameter is perturbed, as sum of the corresponding kernel expressions must be used. In principle, the two equations above should give the same result. Differences may arise because (1) the root finding algorithm did not determine the phase velocity $c$ with sufficient accuracy, (2) the numerical integration is not accurate enough, e.g., because the vertical increment $dr$ is too large, (3) the finite-difference approximation is not perfect and used with a too large $\\delta m$, and finally (4) floating-point errors.\n",
    "\n",
    "The gradient test serves to find a suitable numerical setup that find the right balance between computational requirements and accuracy (approximate equality of the differently computed fractional perturbations)."
   ]
  },
  {
   "cell_type": "markdown",
   "metadata": {},
   "source": [
    "We start be reading in the original model that we used above, and some other model that is a perturbed version of the former. This allows us to compute the fractional model perturbations that we need in the kernel expressions."
   ]
  },
  {
   "cell_type": "code",
   "execution_count": null,
   "metadata": {},
   "outputs": [],
   "source": [
    "import MODELS.models as m\n",
    "reload(m)\n",
    "\n",
    "# Name of original model.\n",
    "model='ONELAYER'\n",
    "# Name of perturbed model.\n",
    "model_pert='ONELAYER_pert'\n",
    "\n",
    "# Get the original model.\n",
    "rho=np.zeros(len(r))\n",
    "A=np.zeros(len(r))\n",
    "C=np.zeros(len(r))\n",
    "F=np.zeros(len(r))\n",
    "L=np.zeros(len(r))\n",
    "N=np.zeros(len(r))\n",
    "\n",
    "for n in np.arange(len(r)): \n",
    "    rho[n], A[n], C[n], F[n], L[n], N[n] = m.models(r[n], model=model)\n",
    "    \n",
    "vph=np.sqrt(A/rho)\n",
    "vpv=np.sqrt(C/rho)\n",
    "vsh=np.sqrt(N/rho)\n",
    "vsv=np.sqrt(L/rho)\n",
    "eta=F/(A-2.0*L)\n",
    "\n",
    "# Get the perturbed model.\n",
    "rho_pert=np.zeros(len(r))\n",
    "A_pert=np.zeros(len(r))\n",
    "C_pert=np.zeros(len(r))\n",
    "F_pert=np.zeros(len(r))\n",
    "L_pert=np.zeros(len(r))\n",
    "N_pert=np.zeros(len(r))\n",
    "\n",
    "for n in np.arange(len(r)): \n",
    "    rho_pert[n], A_pert[n], C_pert[n], F_pert[n], L_pert[n], N_pert[n] = m.models(r[n], model=model_pert)\n",
    "    \n",
    "vph_pert=np.sqrt(A_pert/rho)\n",
    "vpv_pert=np.sqrt(C_pert/rho)\n",
    "vsh_pert=np.sqrt(N_pert/rho)\n",
    "vsv_pert=np.sqrt(L_pert/rho)\n",
    "eta_pert=F_pert/(A_pert-2.0*L_pert)\n",
    "\n",
    "# Compute fractional perturbations.\n",
    "dln_vph=(vph_pert-vph)/vph\n",
    "dln_vpv=(vpv_pert-vpv)/vpv\n",
    "dln_vsh=(vsh_pert-vsh)/vsh\n",
    "dln_vsv=(vsv_pert-vsv)/vsv\n",
    "dln_eta=(eta_pert-eta)/eta"
   ]
  },
  {
   "cell_type": "markdown",
   "metadata": {},
   "source": [
    "Based on the fractional model perturbations, we can compute the fractional phase velocity perturbation using the appropriate sensitivity kernel(s). The code below may need to be adjusted, depending on the model parameter(s) that have been perturbed."
   ]
  },
  {
   "cell_type": "code",
   "execution_count": null,
   "metadata": {},
   "outputs": [],
   "source": [
    "# Integrate over depth with the appropriate kernel.\n",
    "dr=r[1]-r[0]\n",
    "dln_c_kernel=np.sum(K_vsh*dln_vsh)*dr\n",
    "\n",
    "print('fractional phase velocity perturbation by kernel: dln_c=%f %%' % (100.0*dln_c_kernel))"
   ]
  },
  {
   "cell_type": "markdown",
   "metadata": {},
   "source": [
    "To compute the finite-difference calculation, we need to repeat the calculation of phase velocities for the perturbed model. This takes time when done for all frequencies, but it needs to be done only once, and then the result can be used for gradient tests for all the modes. (So, the box below needs to be executed only once and can be skipped for subsequent gradient tests for other mode (indices).)"
   ]
  },
  {
   "cell_type": "code",
   "execution_count": null,
   "metadata": {
    "scrolled": true
   },
   "outputs": [],
   "source": [
    "reload(sh)\n",
    "frequencies_pert,phase_velocities_pert,group_velocities_pert=sh.dispersion_sh('INPUT/input_pert.xml')"
   ]
  },
  {
   "cell_type": "markdown",
   "metadata": {},
   "source": [
    "Finally, we can compute $\\delta c/c$ from the finite-difference calculation and compare to the result above."
   ]
  },
  {
   "cell_type": "code",
   "execution_count": null,
   "metadata": {},
   "outputs": [],
   "source": [
    "_c_pert=phase_velocities_pert[idx]\n",
    "_g_pert=group_velocities_pert[idx]\n",
    "\n",
    "print('original: frequency=%.3f Hz, phase velocity %.3f m/s, group_velocity %.3f m/s' % (_f,_c,_g))\n",
    "print('perturbed: frequency=%.3f Hz, phase velocity %.3f m/s, group_velocity %.3f m/s\\n' % (_f,_c_pert,_g_pert))\n",
    "\n",
    "print('fractional phase velocity perturbation by finite differences: dln_c=%f %%' % (100.0*(_c_pert-_c)/_c))"
   ]
  }
 ],
 "metadata": {
  "kernelspec": {
   "display_name": "Python 3",
   "language": "python",
   "name": "python3"
  },
  "language_info": {
   "codemirror_mode": {
    "name": "ipython",
    "version": 3
   },
   "file_extension": ".py",
   "mimetype": "text/x-python",
   "name": "python",
   "nbconvert_exporter": "python",
   "pygments_lexer": "ipython3",
   "version": "3.8.3"
  }
 },
 "nbformat": 4,
 "nbformat_minor": 4
}
