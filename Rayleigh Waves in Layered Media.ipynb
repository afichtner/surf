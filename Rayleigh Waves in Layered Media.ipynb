{
 "cells": [
  {
   "cell_type": "markdown",
   "metadata": {},
   "source": [
    "# Rayleigh waves in anisotropic layered media"
   ]
  },
  {
   "cell_type": "code",
   "execution_count": null,
   "metadata": {},
   "outputs": [],
   "source": [
    "from importlib import reload\n",
    "import numpy as np\n",
    "import matplotlib.pyplot as plt\n",
    "\n",
    "plt.rcParams[\"font.family\"] = \"Times\"\n",
    "plt.rcParams.update({'font.size': 30})\n",
    "plt.rcParams['xtick.major.pad']='12'\n",
    "plt.rcParams['ytick.major.pad']='12'"
   ]
  },
  {
   "cell_type": "markdown",
   "metadata": {},
   "source": [
    "# 1. General background\n",
    "\n",
    "The following is a notebook for the calculation of surface wave dispersion and sensitivity kernels for surface waves propagating in layered media. The developments closely follow the classical work of Takeuchi & Saito (1972) [\"Seismic Surface Waves\", Methods in Computational Physics: Advances in Research and Applications, 217 - 295]. For this, we consider elastic media with vertical symmetry axis, where the stress-strain relation is given by\n",
    "\n",
    "\\begin{equation}\n",
    "\\sigma_{xx} = A (\\epsilon_{xx} + \\epsilon_{yy}) - 2N \\epsilon_{yy} + F \\epsilon_{zz}\\,, \\\\\n",
    "\\sigma_{yy} = A (\\epsilon_{xx} + \\epsilon_{yy}) - 2N \\epsilon_{xx} + F \\epsilon_{zz}\\,, \\\\\n",
    "\\sigma_{zz} = F (\\epsilon_{xx} + \\epsilon_{yy}) + C \\epsilon_{zz}\\,, \\\\\n",
    "\\sigma_{yz} = 2 L (\\epsilon_{yz}\\,, \\\\\n",
    "\\sigma_{zx} = 2 L (\\epsilon_{zx})\\,, \\\\\n",
    "\\sigma_{xy} = 2N \\epsilon_{xy}\\,,\n",
    "\\end{equation}\n",
    "\n",
    "with the strain tensor components\n",
    "\n",
    "\\begin{equation}\n",
    "\\epsilon_{ij} = \\frac{1}{2} ( \\partial_i u_j + \\partial_j u_i )\\,.\n",
    "\\end{equation}\n",
    "\n",
    "The $z$-axis is defined positive upwards, medium parameters are assumed to depend only on $z$, and all waves propagate in $x$-direction. We will generally consider freely propagating waves, meaning that no sources are active. For this case, the equations of motion in the frequency domain are\n",
    "\n",
    "\\begin{equation}\n",
    "-\\omega^2 \\rho u_i - \\partial_j \\sigma_{ij} = 0\\,. \n",
    "\\end{equation}\n",
    "\n",
    "**Before working through this notebook on Rayleigh waves, it is advisable to first study the corresponding notebook on Love waves, which are significantly easier.**"
   ]
  },
  {
   "cell_type": "markdown",
   "metadata": {},
   "source": [
    "# 2. Phase and group velocity dispersion curves"
   ]
  },
  {
   "cell_type": "markdown",
   "metadata": {},
   "source": [
    "## 2.1. Rayleigh waves"
   ]
  },
  {
   "cell_type": "markdown",
   "metadata": {},
   "source": [
    "Rayleigh waves are P-SV-waves, and so we seek solutions to the equations of motion in the form (in the notation of Takeuchi & Saito (1972))\n",
    "\n",
    "\\begin{equation}\n",
    "u_x = -iy_3 e^{i(\\omega t - kx)}\\,,\\\\\n",
    "u_y = 0\\,,\\\\\n",
    "u_z = y_1 e^{i(\\omega t - kx)}\\,.\n",
    "\\end{equation}\n",
    "\n",
    "Inserting this ansatz into the stress-strain relation and the equations of motion, yields a system of four ordinary differential equations,\n",
    "\n",
    "\\begin{equation}\n",
    "\\partial_z y_1 = \\frac{1}{C}(y_2 + kF y_3)\\,,\\\\\n",
    "\\partial_z y_2 = -\\omega^2 \\rho y_1 + k y_4\\,,\\\\\n",
    "\\partial_z y_3 = \\frac{1}{L}y_4 - ky_1\\,,\\\\\n",
    "\\partial_z y_4 = - \\frac{kF}{C} y_2 + \\left[ k^2 \\left( A - \\frac{F^2}{C} \\right) - \\omega^2 \\rho \\right] y_3\\,.\n",
    "\\end{equation}\n",
    "\n",
    "As in the case of Love waves, these equations have the useful advantage that they do not contain derivatives of the material parameters, and that they are written in terms of continuous displacement ($y_1,y_3$) and stress ($y_2,y_4$) quantities. These have to satisfy the boundary conditions\n",
    "\n",
    "\\begin{equation}\n",
    "y_{i=1,2,3,4} \\text{ are continuous}\\,,\\\\\n",
    "y_2 = y_4 = 0 \\text{ at the surface}\\,,\\\\\n",
    "y_{i=1,2,3,4} \\to 0 \\text{ as } z\\to\\infty\\,.\n",
    "\\end{equation}\n",
    "\n",
    "The system of four ordinary differential equations has four independent solutions. However, only two of these will satisfy the radiation condition $y_{i=1,2,3,4} \\to 0$ as $z\\to\\infty$. Denoting these solutions by $y_i^{(j)}$ with $j=1,2$, all solutions can be written as a superposition of the two:\n",
    "\n",
    "\\begin{equation}\n",
    "y_i = Q^{(1)} y_i^{(1)} + Q^{(2)} y_i^{(2)}\\,.\n",
    "\\end{equation}\n",
    "\n",
    "At the free surface, $z=H$, these solutions must satisfy\n",
    "\n",
    "\\begin{equation}\n",
    "y_2(H) = Q^{(1)} y_2^{(1)}(H) + Q^{(2)} y_2^{(2)}(H) = 0\\,,\\\\\n",
    "y_4(H) = Q^{(1)} y_4^{(1)}(H) + Q^{(2)} y_4^{(2)}(H) = 0\\,.\n",
    "\\end{equation}\n",
    "\n",
    "A non-trivial solution $Q^{(j)}$ to this system only exists when the two vectors $(y_2^{(1)}(H),y_4^{(1)}(H))$ and $(y_2^{(2)}(H),y_4^{(2)}(H))$ are parallel, that is, when the system determinant vanishes,\n",
    "\n",
    "\\begin{equation}\n",
    "y_2^{(1)}(H)y_4^{(2)}(H) -  y_2^{(2)}(H)y_4^{(1)}(H) = 0\\,.\n",
    "\\end{equation}\n",
    "\n",
    "This is the characteristic equation for Rayleigh waves."
   ]
  },
  {
   "cell_type": "markdown",
   "metadata": {},
   "source": [
    "## 2.2. Analytical solution for a homogeneous half-space"
   ]
  },
  {
   "cell_type": "markdown",
   "metadata": {},
   "source": [
    "The above system of ordinary differential equations is somewhat inconvenient when it comes to the derivation of an analytical solution, even for the simplest case of an isotropic half space. Probably the fastest solution goes via the potential representation of the frequency-domain wavefield,\n",
    "\n",
    "\\begin{equation}\n",
    "\\mathbf{u} = -\\nabla\\phi + \\nabla\\times\\boldsymbol{\\psi}\\,.\n",
    "\\end{equation}\n",
    "\n",
    "Inserting the scalar potential $\\phi$ and the vectorial potential $\\boldsymbol{\\psi}$ into the homogeneous wave equation for a homogeneous medium, yields two separate, scalar wave equations,\n",
    "\n",
    "\\begin{equation}\n",
    "-\\omega^2 \\rho \\phi - (\\lambda + 2\\mu) \\Delta \\phi = 0\\,,\\\\\n",
    "-\\omega^2 \\rho \\psi_y - \\mu \\Delta\\psi_i = 0\\,,\n",
    "\\end{equation}\n",
    "\n",
    "where $\\lambda$ and $\\mu$ are the Lame parameters. All but the $y$-component of the vectorial potential $\\boldsymbol{\\psi}$ are equal to zero. With the help of this ansatz, we obtain general solutions for the two non-zero components of the displacement field,\n",
    "\n",
    "\\begin{equation}\n",
    "u_x = (s \\psi_0 e^{sz} - ik \\phi_0 e^{rz} )\\, e^{i(\\omega t - k x)}\\,,\\\\\n",
    "u_z = (r \\phi_0 e^{rz} + i k \\psi_0 e^{sz} ) \\, e^{i(\\omega t - k x)}\\,,\n",
    "\\end{equation}\n",
    "\n",
    "with the definitions\n",
    "\n",
    "\\begin{equation}\n",
    "r^2 = k^2 - \\frac{\\omega^2}{\\alpha^2} > 0\\,,\\\\\n",
    "s^2 = k^2 - \\frac{\\omega^2}{\\beta^2} > 0\\,.\n",
    "\\end{equation}\n",
    "\n",
    "The wave number $k$, or the Rayleigh wave speed $c=\\omega/k$ are constrained through the free-surface condition, which leads to the characteristic equation\n",
    "\n",
    "\\begin{equation}\n",
    "0 = 4 \\beta^4 \\sqrt{1-\\frac{c^2}{\\beta^2}} \\sqrt{1-\\frac{c^2}{\\alpha^2}} - (2\\beta^2 - c^2)^2\\,.\n",
    "\\end{equation}\n",
    "\n",
    "Interestingly, the above equation does not depend explicitly on frequency, meaning that the Rayleigh in a homogeneous half space is not dispersive."
   ]
  },
  {
   "cell_type": "markdown",
   "metadata": {},
   "source": [
    "### 2.2.1. Medium properties\n",
    "\n",
    "First, we define some medium properties and plot the characteristic function."
   ]
  },
  {
   "cell_type": "code",
   "execution_count": null,
   "metadata": {},
   "outputs": [],
   "source": [
    "# velocity [m/s] and density [kg/m^3] of the layer\n",
    "beta=2000.0\n",
    "alpha=3000.0"
   ]
  },
  {
   "cell_type": "markdown",
   "metadata": {},
   "source": [
    "### 2.2.2. Characteristic function and phase velocity"
   ]
  },
  {
   "cell_type": "code",
   "execution_count": null,
   "metadata": {},
   "outputs": [],
   "source": [
    "def cf(a,b,c):\n",
    "    \"\"\"\n",
    "    Rayleigh wave characteristic function.\n",
    "    a = alpha = P wave speed\n",
    "    b = beta = S wave speed\n",
    "    c = Rayleigh wave phase velocity\n",
    "    \"\"\"\n",
    "    \n",
    "    return 4.0 * (b**4) * np.sqrt(1.0 - c**2 / b**2 ) * np.sqrt(1.0 - c**2 / a**2 ) - (2.0 * b**2 - c**2 )**2"
   ]
  },
  {
   "cell_type": "code",
   "execution_count": null,
   "metadata": {},
   "outputs": [],
   "source": [
    "# march through phase velocities and plot left- versus right-hand side of the characteristic equation\n",
    "eps=1.0e-9\n",
    "c=np.linspace(0.8*beta+eps,beta-eps,10000)\n",
    "\n",
    "plt.subplots(1,figsize=(30,10))\n",
    "plt.plot(c,cf(alpha/1000.0,beta/1000.0,c/1000.0),'k')\n",
    "plt.grid()\n",
    "plt.xlabel('phase velocity [m/s]')\n",
    "plt.show()"
   ]
  },
  {
   "cell_type": "code",
   "execution_count": null,
   "metadata": {},
   "outputs": [],
   "source": [
    "d=cf(alpha/1000.0,beta/1000.0,c/1000.0)\n",
    "idx=np.where(np.min(np.abs(d)) == np.abs(d))\n",
    "\n",
    "print('Rayleigh wave speed: %f m/s' % c[idx])"
   ]
  },
  {
   "cell_type": "markdown",
   "metadata": {},
   "source": [
    "## 2.3. Numerical solution\n",
    "\n",
    "With the exception of an isotropic, homogeneous half space, the equations of motion for Rayleigh waves cannot be solved semi-analytically, and so we need to resort to numerical solutions. An interesting numerical difficulty is related to the evaluation of the characteristic equation, because it involves the difference of two potentially very large numbers that we wish to force to zero. To avoid issues with floating point accuracy, it has been suggested to consider a different set of ordinary differential equations, which yield the characteristic equation directly. For this, one needs to introduce a new set of six variables:\n",
    "\n",
    "\\begin{equation}\n",
    "Y_1 = y_1^{(1)} y_3^{(2)} - y_1^{(2)} y_3^{(1)}\\,,\\\\\n",
    "Y_2 = y_2^{(1)} y_4^{(2)} - y_2^{(2)} y_4^{(1)}\\,,\\\\\n",
    "Y_3 = y_1^{(1)} y_2^{(2)} - y_1^{(2)} y_2^{(1)}\\,,\\\\\n",
    "Y_4 = y_1^{(1)} y_4^{(2)} - y_1^{(2)} y_4^{(1)}\\,,\\\\\n",
    "Y_5 = y_3^{(1)} y_2^{(2)} - y_3^{(2)} y_2^{(1)}\\,,\\\\\n",
    "Y_6 = y_3^{(1)} y_4^{(2)} - y_3^{(2)} y_4^{(1)}\\,.\n",
    "\\end{equation}\n",
    "\n",
    "Obviously, $Y_2$ is equivalent to the characteristic Rayleigh wave equation. Using the original equations of motion, we can find the set of differential equations that govern $Y_{i=1,...,6}$:\n",
    "\n",
    "\\begin{equation}\n",
    "\\partial_z Y_1 = \\frac{1}{L} Y_4 - \\frac{1}{C} Y_5\\,,\\\\\n",
    "\\partial_z Y_2 = -\\omega^2 \\rho Y_4 + \\left[ \\omega^2\\rho - k^2 \\left( A-\\frac{F^2}{C} \\right) \\right] Y_5\\,,\\\\\n",
    "\\partial_z Y_3 = k Y_4 + \\frac{kF}{C} Y_5 \\,,\\\\\n",
    "\\partial_z Y_4 = \\left[ -\\omega^2\\rho + k^2 \\left( A-\\frac{F^2}{C} \\right) \\right] Y_1 + \\frac{1}{C} Y_2 - \\frac{2kF}{C} Y_3\\,,\\\\\n",
    "\\partial_z Y_5 = \\omega^2 \\rho Y_1 - \\frac{1}{L} Y_2 - 2kY_3\\,.\n",
    "\\end{equation}\n",
    "\n",
    "The variable $Y_6$ is found to be equal to $-Y_5$, and so it is actually redundant. An additional benefit of using the system of equations above is that only one instead of two solutions must be found.\n",
    "\n",
    "Hence, the strategy is to consider a fixed frequency $\\omega$ and to then solve the system for trial wavenumbers $k$ until $Y_2$ is sufficiently close to zero. With this $(\\omega, k)$ pair we may then solve the original equations of motion to obtain two independent solutions for the displacement and stress functions, $y_{i=1,...,4}$. These are then combined linearly such that the free surface condition is satisfied."
   ]
  },
  {
   "cell_type": "markdown",
   "metadata": {},
   "source": [
    "### 2.3.1. Phase and group velocities\n",
    "\n",
    "Just as for Love waves, it is possible to derive an energy equation of the form\n",
    "\n",
    "\\begin{equation}\n",
    "\\omega^2 I_1 = I_2\\,.\n",
    "\\end{equation}\n",
    "\n",
    "The two integrals are defined as\n",
    "\n",
    "\\begin{equation}\n",
    "I_1 = \\int_{-\\infty}^H \\rho (y_1^2 + y_3^2)\\, dz\\,,\\\\\n",
    "I_2 = \\int_{-\\infty}^H \\left[ \\frac{1}{C} y_2^2 + \\frac{1}{L} y_4^2 + k^2 \\left( A - \\frac{F^2}{C} \\right) y_3^2 \\right]\\,dz\\,.\n",
    "\\end{equation}\n",
    "\n",
    "Varying $\\omega$ and $k$, with corresponding variations of the displacement and stress functions $y_{i=1,...,4}$, yields an explicit group velocity equation,\n",
    "\n",
    "\\begin{equation}\n",
    "U = \\frac{k}{\\omega} \\frac{I_3}{I_1}\\,,\n",
    "\\end{equation}\n",
    "\n",
    "with\n",
    "\n",
    "\\begin{equation}\n",
    "I_3 = \\int_{-\\infty}^H \\left[ \\left( A-\\frac{F^2}{C} \\right) y_3^2 + \\frac{1}{k} \\left( y_1 y_4 - \\frac{F}{C} y_2 y_3 \\right)   \\right]\\, dz\\,.\n",
    "\\end{equation}\n",
    "\n",
    "As in the case of Love waves, we hide all of these calculations in some external functions."
   ]
  },
  {
   "cell_type": "code",
   "execution_count": null,
   "metadata": {
    "scrolled": false
   },
   "outputs": [],
   "source": [
    "import dispersion_psv as psv\n",
    "\n",
    "frequencies,phase_velocities,group_velocities=psv.dispersion_psv('INPUT/input.xml')"
   ]
  },
  {
   "cell_type": "code",
   "execution_count": null,
   "metadata": {},
   "outputs": [],
   "source": [
    "# plot phase velocities\n",
    "plt.subplots(1,figsize=(30,10))\n",
    "for i in range(len(frequencies)):\n",
    "    plt.plot(frequencies[i],phase_velocities[i],'kx')\n",
    "    plt.text(frequencies[i]+0.002,phase_velocities[i]+10,str(i),FontSize=20)\n",
    "    \n",
    "plt.xlabel('frequency [Hz]')\n",
    "plt.ylabel('phase velocity [m/s]')\n",
    "plt.title('phase velocities',pad=30)\n",
    "plt.grid()\n",
    "plt.show()\n",
    "\n",
    "# plot group velocities\n",
    "plt.subplots(1,figsize=(30,10))\n",
    "for i in range(len(frequencies)):\n",
    "    plt.plot(frequencies[i],group_velocities[i],'kx')\n",
    "    plt.text(frequencies[i]+0.002,group_velocities[i]+10,str(i),FontSize=20)\n",
    "    \n",
    "plt.xlabel('frequency [Hz]')\n",
    "plt.ylabel('group velocity [m/s]')\n",
    "plt.title('group velocities',pad=30)\n",
    "plt.grid()\n",
    "plt.show()"
   ]
  },
  {
   "cell_type": "markdown",
   "metadata": {},
   "source": [
    "We now pick a specific mode for further analysis (displacement and stress functions, kernels, gradient test)."
   ]
  },
  {
   "cell_type": "code",
   "execution_count": null,
   "metadata": {},
   "outputs": [],
   "source": [
    "# Mode index.\n",
    "idx=5\n",
    "\n",
    "# Get the frequency and phase velocity.\n",
    "_f=frequencies[idx]\n",
    "_c=phase_velocities[idx]\n",
    "_g=group_velocities[idx]\n",
    "print('frequency=%.3f Hz, phase velocity %.3f m/s, group_velocity %.3f m/s' % (_f,_c,_g))"
   ]
  },
  {
   "cell_type": "markdown",
   "metadata": {},
   "source": [
    "### 2.3.2. Displacement functions\n",
    "\n",
    "The displacement functions $y_1$ (vertical) and $y_3$ (horizontal) are byproducts of the numerical integration. The function dispersion_psv writes these functions as files into an output directory, specified in the input file. In the following, we read such a displacement function and plot it."
   ]
  },
  {
   "cell_type": "code",
   "execution_count": null,
   "metadata": {
    "scrolled": false
   },
   "outputs": [],
   "source": [
    "import plot_displacement_psv as pdpsv\n",
    "\n",
    "identifier=f\"f={_f:.3f}\"+f\".c={_c:.3f}\"\n",
    "filename=\"OUTPUT/displacement_psv.onelayer.\"+identifier\n",
    "\n",
    "pdpsv.plot_displacement_psv(filename)"
   ]
  },
  {
   "cell_type": "markdown",
   "metadata": {},
   "source": [
    "# 3. Sensitivity kernels\n",
    "\n",
    "Also in the case of Rayleigh waves, the energy equation may be used to express variations of phase velocity, induced by variations in material parameters, in terms of sensitivity kernels. Keeping $\\omega$ fixed and varying $k$, with corresponding variations in material parameters, yields the following set of expressions:\n",
    "\n",
    "\\begin{equation}\n",
    "\\frac{\\delta c}{c} = \\int_{-\\infty}^H \\frac{\\delta \\rho}{\\rho} K_\\rho^0 \\,dz + \\int_{-\\infty}^H \\frac{\\delta A}{A} K_A \\,dz + \\int_{-\\infty}^H \\frac{\\delta C}{C} K_C \\,dz + \\int_{-\\infty}^H \\frac{\\delta F}{F} K_F \\,dz + \\int_{-\\infty}^H \\frac{\\delta L}{L} K_L \\,dz + \\int_{-\\infty}^H \\frac{\\delta N}{N} K_N \\,dz\\,,\n",
    "\\end{equation}\n",
    "\n",
    "with the integral (sensitivity) kernels defined as\n",
    "\n",
    "\\begin{equation}\n",
    "K_\\rho^0 = - \\frac{\\rho}{2I_1} \\frac{c}{U} ( y_1^2 + y_3^2 )\\,,\\\\\n",
    "K_A = \\frac{A}{2 c^2 I_1} \\frac{c}{U} y_3^2\\,,\\\\\n",
    "K_C = \\frac{C}{2 \\omega^2 I_1} \\frac{c}{U} \\left(\\frac{dy_1}{dz}\\right)^2\\,,\\\\\n",
    "K_F = -\\frac{kF}{\\omega^2 I_1} \\frac{c}{U} \\frac{dy_1}{dz} y_3\\,,\\\\\n",
    "K_L = \\frac{1}{2\\omega^2 I_1 L} \\frac{c}{U} y_4^2\\,,\\\\\n",
    "K_N = 0\\,.\n",
    "\\end{equation}\n",
    "\n",
    "**Note**: Takeuchi & Saito perturbed $\\omega$ in the energy equation, keeping $k$ constant. This is also possible but a little more lengthy.\n",
    "\n",
    "The parameterisation in terms of $\\rho$ and the elastic parameters $A$, $C$, $F$, $L$ and $N$ is commonly replaced by a parameterisation in terms of velocities, that are more directly 'observable', and the parameter $\\eta$:\n",
    "\n",
    "\\begin{equation}\n",
    "\\alpha_h = \\sqrt{\\frac{A}{\\rho}}\\,,\\quad \\alpha_v = \\sqrt{\\frac{C}{\\rho}}\\,,\\quad \\beta_h = \\sqrt{\\frac{N}{\\rho}}\\,,\\quad \\beta_v = \\sqrt{\\frac{L}{\\rho}}\\,,\\quad \\eta = \\frac{F}{A-2L}\\,.\n",
    "\\end{equation}\n",
    "\n",
    "The corresponding sensitivity kernels can be expressed most conveniently in terms of the fundamental kernels listed above:\n",
    "\n",
    "\\begin{equation}\n",
    "K_{\\alpha_h} = 2K_A + \\frac{2A}{A-2L} K_F\\,,\\\\\n",
    "K_{\\alpha_v} = 2K_C\\,,\\\\\n",
    "K_{\\beta_h} = 2K_N\\,,\\\\\n",
    "K_{\\beta_v} = 2K_L - \\frac{4L}{A-2L} K_F\\,,\\\\\n",
    "K_{\\eta} = K_F\\,,\\\\\n",
    "K_{\\rho} = K_A + K_C + K_F + K_N + K_L + K_{\\rho}^0\\,.\n",
    "\\end{equation}"
   ]
  },
  {
   "cell_type": "markdown",
   "metadata": {},
   "source": [
    "## 3.1. Load and plot kernels\n",
    "\n",
    "The actual kernels have already been computed on the fly. Now we just load and visualise them for a specific frequency and mode."
   ]
  },
  {
   "cell_type": "code",
   "execution_count": null,
   "metadata": {
    "scrolled": false
   },
   "outputs": [],
   "source": [
    "import plot_kernels as pk\n",
    "\n",
    "filename=\"OUTPUT/kernels_psv.onelayer.\"+identifier\n",
    "\n",
    "r,K_rho,K_vph,K_vpv,K_vsh,K_vsv,K_eta=pk.plot_kernels(filename)"
   ]
  },
  {
   "cell_type": "markdown",
   "metadata": {},
   "source": [
    "## 3.2. Gradient test\n",
    "\n",
    "Since many things can go wrong in the calculation of phase velocities and sensitivity kernels, it is useful to perform some tests. One of the easiest ones is a gradient test that compares fractional phase velocity variations $\\delta c/c$ computed from the sensitivity kernels\n",
    "\n",
    "\\begin{equation}\n",
    "\\frac{\\delta c}{c} = \\int\\limits_{-\\infty}^H K_m(z)\\,\\frac{\\delta m(z)}{m(z)}\\, dz\\,,\n",
    "\\end{equation}\n",
    "\n",
    "and via a finite difference approximation\n",
    "\n",
    "\\begin{equation}\n",
    "\\frac{\\delta c}{c} = \\frac{c(m+\\delta m) - c(m)}{c(m)}\\,,\n",
    "\\end{equation}\n",
    "\n",
    "where $m$ is one of the model parameters. In case more than one parameter is perturbed, as sum of the corresponding kernel expressions must be used. In principle, the two equations above should give the same result. Differences may arise because (1) the root finding algorithm did not determine the phase velocity $c$ with sufficient accuracy, (2) the numerical integration is not accurate enough, e.g., because the vertical increment $dr$ is too large, (3) the finite-difference approximation is not perfect and used with a too large $\\delta m$, and finally (4) floating-point errors.\n",
    "\n",
    "The gradient test serves to find a suitable numerical setup that find the right balance between computational requirements and accuracy (approximate equality of the differently computed fractional perturbations)."
   ]
  },
  {
   "cell_type": "markdown",
   "metadata": {},
   "source": [
    "We start be reading in the original model that we used above, and some other model that is a perturbed version of the former. This allows us to compute the fractional model perturbations that we need in the kernel expressions."
   ]
  },
  {
   "cell_type": "code",
   "execution_count": null,
   "metadata": {},
   "outputs": [],
   "source": [
    "import MODELS.models as m\n",
    "reload(m)\n",
    "\n",
    "# Name of original model.\n",
    "model='ONELAYER'\n",
    "# Name of perturbed model.\n",
    "model_pert='ONELAYER_pert'\n",
    "\n",
    "# Get the original model.\n",
    "rho=np.zeros(len(r))\n",
    "A=np.zeros(len(r))\n",
    "C=np.zeros(len(r))\n",
    "F=np.zeros(len(r))\n",
    "L=np.zeros(len(r))\n",
    "N=np.zeros(len(r))\n",
    "\n",
    "for n in np.arange(len(r)): \n",
    "    rho[n], A[n], C[n], F[n], L[n], N[n] = m.models(r[n], model=model)\n",
    "    \n",
    "vph=np.sqrt(A/rho)\n",
    "vpv=np.sqrt(C/rho)\n",
    "vsh=np.sqrt(N/rho)\n",
    "vsv=np.sqrt(L/rho)\n",
    "eta=F/(A-2.0*L)\n",
    "\n",
    "# Get the perturbed model.\n",
    "rho_pert=np.zeros(len(r))\n",
    "A_pert=np.zeros(len(r))\n",
    "C_pert=np.zeros(len(r))\n",
    "F_pert=np.zeros(len(r))\n",
    "L_pert=np.zeros(len(r))\n",
    "N_pert=np.zeros(len(r))\n",
    "\n",
    "for n in np.arange(len(r)): \n",
    "    rho_pert[n], A_pert[n], C_pert[n], F_pert[n], L_pert[n], N_pert[n] = m.models(r[n], model=model_pert)\n",
    "    \n",
    "vph_pert=np.sqrt(A_pert/rho)\n",
    "vpv_pert=np.sqrt(C_pert/rho)\n",
    "vsh_pert=np.sqrt(N_pert/rho)\n",
    "vsv_pert=np.sqrt(L_pert/rho)\n",
    "eta_pert=F_pert/(A_pert-2.0*L_pert)\n",
    "\n",
    "# Compute fractional perturbations.\n",
    "dln_vph=(vph_pert-vph)/vph\n",
    "dln_vpv=(vpv_pert-vpv)/vpv\n",
    "dln_vsh=(vsh_pert-vsh)/vsh\n",
    "dln_vsv=(vsv_pert-vsv)/vsv\n",
    "dln_eta=(eta_pert-eta)/eta"
   ]
  },
  {
   "cell_type": "markdown",
   "metadata": {},
   "source": [
    "Based on the fractional model perturbations, we can compute the fractional phase velocity perturbation using the appropriate sensitivity kernel(s). The code below may need to be adjusted, depending on the model parameter(s) that have been perturbed."
   ]
  },
  {
   "cell_type": "code",
   "execution_count": null,
   "metadata": {},
   "outputs": [],
   "source": [
    "# Integrate over depth with the appropriate kernel.\n",
    "dr=r[1]-r[0]\n",
    "dln_c_kernel=np.sum(K_vsv*dln_vsh)*dr\n",
    "\n",
    "print('fractional phase velocity perturbation by kernel: dln_c=%f %%' % (100.0*dln_c_kernel))"
   ]
  },
  {
   "cell_type": "markdown",
   "metadata": {},
   "source": [
    "To compute the finite-difference calculation, we need to repeat the calculation of phase velocities for the perturbed model. This takes time when done for all frequencies, but it needs to be done only once, and then the result can be used for gradient tests for all the modes. (So, the box below needs to be executed only once and can be skipped for subsequent gradient tests for other mode (indices).)"
   ]
  },
  {
   "cell_type": "code",
   "execution_count": null,
   "metadata": {},
   "outputs": [],
   "source": [
    "reload(psv)\n",
    "frequencies_pert,phase_velocities_pert,group_velocities_pert=psv.dispersion_psv('INPUT/input_pert.xml')"
   ]
  },
  {
   "cell_type": "markdown",
   "metadata": {},
   "source": [
    "Finally, we can compute $\\delta c/c$ from the finite-difference calculation and compare to the result above."
   ]
  },
  {
   "cell_type": "code",
   "execution_count": null,
   "metadata": {},
   "outputs": [],
   "source": [
    "_c_pert=phase_velocities_pert[idx]\n",
    "_g_pert=group_velocities_pert[idx]\n",
    "\n",
    "print('original: frequency=%.3f Hz, phase velocity %.3f m/s, group_velocity %.3f m/s' % (_f,_c,_g))\n",
    "print('perturbed: frequency=%.3f Hz, phase velocity %.3f m/s, group_velocity %.3f m/s\\n' % (_f,_c_pert,_g_pert))\n",
    "\n",
    "print('fractional phase velocity perturbation by finite differences: dln_c=%f %%' % (100.0*(_c_pert-_c)/_c))"
   ]
  }
 ],
 "metadata": {
  "kernelspec": {
   "display_name": "Python 3",
   "language": "python",
   "name": "python3"
  },
  "language_info": {
   "codemirror_mode": {
    "name": "ipython",
    "version": 3
   },
   "file_extension": ".py",
   "mimetype": "text/x-python",
   "name": "python",
   "nbconvert_exporter": "python",
   "pygments_lexer": "ipython3",
   "version": "3.8.3"
  }
 },
 "nbformat": 4,
 "nbformat_minor": 4
}
